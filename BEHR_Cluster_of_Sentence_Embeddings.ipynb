{
  "nbformat": 4,
  "nbformat_minor": 0,
  "metadata": {
    "colab": {
      "name": "BEHR Cluster of Sentence Embeddings",
      "provenance": [],
      "collapsed_sections": [],
      "mount_file_id": "1bF7kN6h3F8_BUkJ3fUdOr8TDJFOZQk9_",
      "authorship_tag": "ABX9TyMvLwIVM2M4+4kjor58Aeod",
      "include_colab_link": true
    },
    "kernelspec": {
      "name": "python3",
      "display_name": "Python 3"
    },
    "language_info": {
      "name": "python"
    },
    "accelerator": "GPU"
  },
  "cells": [
    {
      "cell_type": "markdown",
      "metadata": {
        "id": "view-in-github",
        "colab_type": "text"
      },
      "source": [
        "<a href=\"https://colab.research.google.com/github/iopsych1975/iopsych1975/blob/main/BEHR_Cluster_of_Sentence_Embeddings.ipynb\" target=\"_parent\"><img src=\"https://colab.research.google.com/assets/colab-badge.svg\" alt=\"Open In Colab\"/></a>"
      ]
    },
    {
      "cell_type": "code",
      "metadata": {
        "id": "e-s56e2BK5Nb"
      },
      "source": [
        "!pip install sentence-transformers\n",
        "!pip install pandas\n",
        "!pip install sklearn\n",
        "!pip install texthero\n",
        "!pip install tbb\n",
        "!pip install hdbscan\n",
        "!pip install umap-learn"
      ],
      "execution_count": null,
      "outputs": []
    },
    {
      "cell_type": "code",
      "metadata": {
        "id": "jOkD28W0LAiY"
      },
      "source": [
        "#from sklearn.metrics.pairwise import cosine_similarity\n",
        "from transformers import pipeline\n",
        "from sentence_transformers import SentenceTransformer, models\n",
        "#model = SentenceTransformer('distilbert-base-nli-mean-tokens')\n",
        "model = SentenceTransformer('paraphrase-mpnet-base-v2', device='cuda:0')\n",
        "import torch\n",
        "import pandas as pd\n",
        "import numpy as np\n",
        "import matplotlib.pyplot as plt\n",
        "import umap\n",
        "import hdbscan\n",
        "import texthero\n"
      ],
      "execution_count": null,
      "outputs": []
    },
    {
      "cell_type": "code",
      "metadata": {
        "colab": {
          "base_uri": "https://localhost:8080/"
        },
        "id": "s5Gy6jvvXmcG",
        "outputId": "6338700a-1064-45c5-dcbc-5a9d323f7db5"
      },
      "source": [
        "model.max_seq_length = 512\n",
        "print (model.max_seq_length)"
      ],
      "execution_count": 4,
      "outputs": [
        {
          "output_type": "stream",
          "text": [
            "512\n"
          ],
          "name": "stdout"
        }
      ]
    },
    {
      "cell_type": "code",
      "metadata": {
        "id": "BxbIEmqKNH5L"
      },
      "source": [
        "df = pd.read_csv('/content/drive/MyDrive/Colab Notebooks/behr_short.csv')\n",
        "#df = pd.read_csv('/content/drive/MyDrive/Colab Notebooks/Appreciation_Short.csv')\n",
        "#df = pd.read_csv('/content/drive/MyDrive/Colab Notebooks/Appreciation Comments.csv')\n",
        "#df = pd.ExcelFile('/content/drive/MyDrive/Colab Notebooks/Appreciation_Short.xlsx').parse()\n"
      ],
      "execution_count": 5,
      "outputs": []
    },
    {
      "cell_type": "code",
      "metadata": {
        "id": "gzjeC3_8dFu0"
      },
      "source": [
        "embeddings = model.encode(df['Text'])\n",
        "#use = np.array(embeddings).tolist()\n",
        "#df['use']=[v for v in use]"
      ],
      "execution_count": 6,
      "outputs": []
    },
    {
      "cell_type": "code",
      "metadata": {
        "colab": {
          "base_uri": "https://localhost:8080/",
          "height": 589
        },
        "id": "EjSXSku0KUNu",
        "outputId": "41ed950e-90b3-407e-a183-45133f7968ee"
      },
      "source": [
        "df"
      ],
      "execution_count": 7,
      "outputs": [
        {
          "output_type": "execute_result",
          "data": {
            "text/html": [
              "<div>\n",
              "<style scoped>\n",
              "    .dataframe tbody tr th:only-of-type {\n",
              "        vertical-align: middle;\n",
              "    }\n",
              "\n",
              "    .dataframe tbody tr th {\n",
              "        vertical-align: top;\n",
              "    }\n",
              "\n",
              "    .dataframe thead th {\n",
              "        text-align: right;\n",
              "    }\n",
              "</style>\n",
              "<table border=\"1\" class=\"dataframe\">\n",
              "  <thead>\n",
              "    <tr style=\"text-align: right;\">\n",
              "      <th></th>\n",
              "      <th>SURVEY_EVENT_ID</th>\n",
              "      <th>SURVEY_RESPONDER_ID</th>\n",
              "      <th>QUESTION_TEXT</th>\n",
              "      <th>Text</th>\n",
              "      <th>SURVEY_QUESTION_ESSENCE_NAME</th>\n",
              "      <th>SURVEY_QUESTION_CONDITION_TYPE_DESCRIPTION</th>\n",
              "      <th>IS_CORE_STATEMENT</th>\n",
              "      <th>use</th>\n",
              "    </tr>\n",
              "  </thead>\n",
              "  <tbody>\n",
              "    <tr>\n",
              "      <th>0</th>\n",
              "      <td>89100</td>\n",
              "      <td>13633245</td>\n",
              "      <td>What gets in the way of you feeling genuinely ...</td>\n",
              "      <td>is an excellent company. There are situations...</td>\n",
              "      <td>Appreciation (-)</td>\n",
              "      <td>Agreement (0-6) &lt; 5 (Agree)</td>\n",
              "      <td>True</td>\n",
              "      <td>[-0.0017075254581868649, -0.016932664439082146...</td>\n",
              "    </tr>\n",
              "    <tr>\n",
              "      <th>1</th>\n",
              "      <td>89100</td>\n",
              "      <td>13633301</td>\n",
              "      <td>What gets in the way of you feeling genuinely ...</td>\n",
              "      <td>I feel that there are no obstacles.</td>\n",
              "      <td>Appreciation (-)</td>\n",
              "      <td>Agreement (0-6) &lt; 5 (Agree)</td>\n",
              "      <td>True</td>\n",
              "      <td>[-0.16571345925331116, 0.2683608829975128, -0....</td>\n",
              "    </tr>\n",
              "    <tr>\n",
              "      <th>2</th>\n",
              "      <td>89100</td>\n",
              "      <td>13633313</td>\n",
              "      <td>What gets in the way of you feeling genuinely ...</td>\n",
              "      <td>only the rewards that my customers give me</td>\n",
              "      <td>Appreciation (-)</td>\n",
              "      <td>Agreement (0-6) &lt; 5 (Agree)</td>\n",
              "      <td>True</td>\n",
              "      <td>[0.051149606704711914, 0.1374177187681198, -0....</td>\n",
              "    </tr>\n",
              "    <tr>\n",
              "      <th>3</th>\n",
              "      <td>89100</td>\n",
              "      <td>13633347</td>\n",
              "      <td>What gets in the way of you feeling genuinely ...</td>\n",
              "      <td>the trust</td>\n",
              "      <td>Appreciation (-)</td>\n",
              "      <td>Agreement (0-6) &lt; 5 (Agree)</td>\n",
              "      <td>True</td>\n",
              "      <td>[0.08413109183311462, 0.24992656707763672, -0....</td>\n",
              "    </tr>\n",
              "    <tr>\n",
              "      <th>4</th>\n",
              "      <td>89100</td>\n",
              "      <td>13633359</td>\n",
              "      <td>What gets in the way of you feeling genuinely ...</td>\n",
              "      <td>that everyone is very kind to each other and e...</td>\n",
              "      <td>Appreciation (-)</td>\n",
              "      <td>Agreement (0-6) &lt; 5 (Agree)</td>\n",
              "      <td>True</td>\n",
              "      <td>[-0.009683913551270962, -0.01461831945925951, ...</td>\n",
              "    </tr>\n",
              "    <tr>\n",
              "      <th>...</th>\n",
              "      <td>...</td>\n",
              "      <td>...</td>\n",
              "      <td>...</td>\n",
              "      <td>...</td>\n",
              "      <td>...</td>\n",
              "      <td>...</td>\n",
              "      <td>...</td>\n",
              "      <td>...</td>\n",
              "    </tr>\n",
              "    <tr>\n",
              "      <th>3285</th>\n",
              "      <td>89100</td>\n",
              "      <td>13636132</td>\n",
              "      <td>What contributes most to you wanting to stay w...</td>\n",
              "      <td>It a family friendly work environment.</td>\n",
              "      <td>Retention (+)</td>\n",
              "      <td>Agreement (0-6) &lt; 2 (Slightly Disagree)</td>\n",
              "      <td>True</td>\n",
              "      <td>[-0.16153275966644287, -0.0835602805018425, -0...</td>\n",
              "    </tr>\n",
              "    <tr>\n",
              "      <th>3286</th>\n",
              "      <td>89100</td>\n",
              "      <td>13636135</td>\n",
              "      <td>What contributes most to you wanting to stay w...</td>\n",
              "      <td>The opportunity to further my career</td>\n",
              "      <td>Retention (+)</td>\n",
              "      <td>Agreement (0-6) &lt; 2 (Slightly Disagree)</td>\n",
              "      <td>True</td>\n",
              "      <td>[-0.040170490741729736, 0.28966400027275085, -...</td>\n",
              "    </tr>\n",
              "    <tr>\n",
              "      <th>3287</th>\n",
              "      <td>89100</td>\n",
              "      <td>13636146</td>\n",
              "      <td>What contributes most to you wanting to stay w...</td>\n",
              "      <td>My mortgage.</td>\n",
              "      <td>Retention (+)</td>\n",
              "      <td>Agreement (0-6) &lt; 2 (Slightly Disagree)</td>\n",
              "      <td>True</td>\n",
              "      <td>[-0.154686838388443, 0.14169447124004364, 0.00...</td>\n",
              "    </tr>\n",
              "    <tr>\n",
              "      <th>3288</th>\n",
              "      <td>89100</td>\n",
              "      <td>13636158</td>\n",
              "      <td>What contributes most to you wanting to stay w...</td>\n",
              "      <td>THAT PEOPLE COME FIRST</td>\n",
              "      <td>Retention (+)</td>\n",
              "      <td>Agreement (0-6) &lt; 2 (Slightly Disagree)</td>\n",
              "      <td>True</td>\n",
              "      <td>[0.05211659148335457, 0.1314961165189743, 0.03...</td>\n",
              "    </tr>\n",
              "    <tr>\n",
              "      <th>3289</th>\n",
              "      <td>89100</td>\n",
              "      <td>13636168</td>\n",
              "      <td>What contributes most to you wanting to stay w...</td>\n",
              "      <td>The manager and the work place.</td>\n",
              "      <td>Retention (+)</td>\n",
              "      <td>Agreement (0-6) &lt; 2 (Slightly Disagree)</td>\n",
              "      <td>True</td>\n",
              "      <td>[-0.0971691757440567, 0.108086496591568, -0.01...</td>\n",
              "    </tr>\n",
              "  </tbody>\n",
              "</table>\n",
              "<p>3290 rows × 8 columns</p>\n",
              "</div>"
            ],
            "text/plain": [
              "      SURVEY_EVENT_ID  ...                                                use\n",
              "0               89100  ...  [-0.0017075254581868649, -0.016932664439082146...\n",
              "1               89100  ...  [-0.16571345925331116, 0.2683608829975128, -0....\n",
              "2               89100  ...  [0.051149606704711914, 0.1374177187681198, -0....\n",
              "3               89100  ...  [0.08413109183311462, 0.24992656707763672, -0....\n",
              "4               89100  ...  [-0.009683913551270962, -0.01461831945925951, ...\n",
              "...               ...  ...                                                ...\n",
              "3285            89100  ...  [-0.16153275966644287, -0.0835602805018425, -0...\n",
              "3286            89100  ...  [-0.040170490741729736, 0.28966400027275085, -...\n",
              "3287            89100  ...  [-0.154686838388443, 0.14169447124004364, 0.00...\n",
              "3288            89100  ...  [0.05211659148335457, 0.1314961165189743, 0.03...\n",
              "3289            89100  ...  [-0.0971691757440567, 0.108086496591568, -0.01...\n",
              "\n",
              "[3290 rows x 8 columns]"
            ]
          },
          "metadata": {
            "tags": []
          },
          "execution_count": 7
        }
      ]
    },
    {
      "cell_type": "code",
      "metadata": {
        "id": "pM3Mq_-3sCiW"
      },
      "source": [
        "umap_embeddings = umap.UMAP(n_neighbors=4, \n",
        "                            n_components=2,\n",
        "                            min_dist=0.0, \n",
        "                            metric='cosine').fit_transform(embeddings)\n",
        "cluster = hdbscan.HDBSCAN(min_cluster_size=20,\n",
        "                          min_samples = 20,\n",
        "                          metric='euclidean',                      \n",
        "                          cluster_selection_method='eom').fit(umap_embeddings)"
      ],
      "execution_count": null,
      "outputs": []
    },
    {
      "cell_type": "code",
      "metadata": {
        "id": "fzEVBcbBkNFW"
      },
      "source": [
        "# Prepare data\n",
        "\n",
        "result = pd.DataFrame(umap_embeddings, columns=['x', 'y'])\n",
        "result['labels'] = cluster.labels_\n",
        "df['labels'] = pd.Series(result['labels'])\n",
        "\n",
        "\n",
        "\n"
      ],
      "execution_count": null,
      "outputs": []
    },
    {
      "cell_type": "code",
      "metadata": {
        "colab": {
          "base_uri": "https://localhost:8080/",
          "height": 613
        },
        "id": "aqZmF6YwhLTR",
        "outputId": "e9cbcde4-f38e-4285-bbf6-e226a59e3bba"
      },
      "source": [
        "# Visualize clusters\n",
        "fig, ax = plt.subplots(figsize=(20, 10))\n",
        "outliers = result.loc[result.labels == -1, :]\n",
        "clustered = result.loc[result.labels != -1, :]\n",
        "plt.scatter(outliers.x, outliers.y, color='#BDBDBD', s=5)\n",
        "plt.scatter(clustered.x, clustered.y, c=clustered.labels, s=5, cmap='hsv_r')\n",
        "plt.colorbar()"
      ],
      "execution_count": null,
      "outputs": [
        {
          "output_type": "execute_result",
          "data": {
            "text/plain": [
              "<matplotlib.colorbar.Colorbar at 0x7fed7c1860d0>"
            ]
          },
          "metadata": {
            "tags": []
          },
          "execution_count": 114
        },
        {
          "output_type": "display_data",
          "data": {
            "image/png": "[encoded data removed]",
            "text/plain": [
              "<Figure size 1440x720 with 2 Axes>"
            ]
          },
          "metadata": {
            "tags": [],
            "needs_background": "light"
          }
        }
      ]
    },
    {
      "cell_type": "code",
      "metadata": {
        "id": "tZwtBRsDmLRr"
      },
      "source": [
        "df.to_excel(r'/content/drive/MyDrive/Colab Notebooks/behr_short_report_5.xlsx', index=False)"
      ],
      "execution_count": null,
      "outputs": []
    },
    {
      "cell_type": "code",
      "metadata": {
        "colab": {
          "base_uri": "https://localhost:8080/",
          "height": 419
        },
        "id": "gFXOuXPJb74u",
        "outputId": "ef34cde2-b84c-4088-c96a-a18848c62c58"
      },
      "source": [
        "result"
      ],
      "execution_count": null,
      "outputs": [
        {
          "output_type": "execute_result",
          "data": {
            "text/html": [
              "<div>\n",
              "<style scoped>\n",
              "    .dataframe tbody tr th:only-of-type {\n",
              "        vertical-align: middle;\n",
              "    }\n",
              "\n",
              "    .dataframe tbody tr th {\n",
              "        vertical-align: top;\n",
              "    }\n",
              "\n",
              "    .dataframe thead th {\n",
              "        text-align: right;\n",
              "    }\n",
              "</style>\n",
              "<table border=\"1\" class=\"dataframe\">\n",
              "  <thead>\n",
              "    <tr style=\"text-align: right;\">\n",
              "      <th></th>\n",
              "      <th>x</th>\n",
              "      <th>y</th>\n",
              "      <th>labels</th>\n",
              "    </tr>\n",
              "  </thead>\n",
              "  <tbody>\n",
              "    <tr>\n",
              "      <th>0</th>\n",
              "      <td>5.894631</td>\n",
              "      <td>6.740524</td>\n",
              "      <td>63</td>\n",
              "    </tr>\n",
              "    <tr>\n",
              "      <th>1</th>\n",
              "      <td>9.121812</td>\n",
              "      <td>11.165879</td>\n",
              "      <td>3</td>\n",
              "    </tr>\n",
              "    <tr>\n",
              "      <th>2</th>\n",
              "      <td>8.891836</td>\n",
              "      <td>5.113054</td>\n",
              "      <td>81</td>\n",
              "    </tr>\n",
              "    <tr>\n",
              "      <th>3</th>\n",
              "      <td>10.557729</td>\n",
              "      <td>6.775176</td>\n",
              "      <td>-1</td>\n",
              "    </tr>\n",
              "    <tr>\n",
              "      <th>4</th>\n",
              "      <td>10.277396</td>\n",
              "      <td>7.285459</td>\n",
              "      <td>67</td>\n",
              "    </tr>\n",
              "    <tr>\n",
              "      <th>...</th>\n",
              "      <td>...</td>\n",
              "      <td>...</td>\n",
              "      <td>...</td>\n",
              "    </tr>\n",
              "    <tr>\n",
              "      <th>3285</th>\n",
              "      <td>8.390199</td>\n",
              "      <td>4.591365</td>\n",
              "      <td>-1</td>\n",
              "    </tr>\n",
              "    <tr>\n",
              "      <th>3286</th>\n",
              "      <td>6.862681</td>\n",
              "      <td>4.147002</td>\n",
              "      <td>16</td>\n",
              "    </tr>\n",
              "    <tr>\n",
              "      <th>3287</th>\n",
              "      <td>3.681524</td>\n",
              "      <td>5.360908</td>\n",
              "      <td>6</td>\n",
              "    </tr>\n",
              "    <tr>\n",
              "      <th>3288</th>\n",
              "      <td>10.488564</td>\n",
              "      <td>7.360679</td>\n",
              "      <td>67</td>\n",
              "    </tr>\n",
              "    <tr>\n",
              "      <th>3289</th>\n",
              "      <td>8.866345</td>\n",
              "      <td>5.714477</td>\n",
              "      <td>-1</td>\n",
              "    </tr>\n",
              "  </tbody>\n",
              "</table>\n",
              "<p>3290 rows × 3 columns</p>\n",
              "</div>"
            ],
            "text/plain": [
              "              x          y  labels\n",
              "0      5.894631   6.740524      63\n",
              "1      9.121812  11.165879       3\n",
              "2      8.891836   5.113054      81\n",
              "3     10.557729   6.775176      -1\n",
              "4     10.277396   7.285459      67\n",
              "...         ...        ...     ...\n",
              "3285   8.390199   4.591365      -1\n",
              "3286   6.862681   4.147002      16\n",
              "3287   3.681524   5.360908       6\n",
              "3288  10.488564   7.360679      67\n",
              "3289   8.866345   5.714477      -1\n",
              "\n",
              "[3290 rows x 3 columns]"
            ]
          },
          "metadata": {
            "tags": []
          },
          "execution_count": 101
        }
      ]
    },
    {
      "cell_type": "code",
      "metadata": {
        "id": "HxtnhhnZUktu"
      },
      "source": [
        "import texthero"
      ],
      "execution_count": null,
      "outputs": []
    },
    {
      "cell_type": "code",
      "metadata": {
        "id": "cPS4KMOvZtJz",
        "colab": {
          "base_uri": "https://localhost:8080/",
          "height": 163
        },
        "outputId": "82d2bd16-7d67-4454-966d-573813a56bb1"
      },
      "source": [
        "texthero.scatterplot(df, )"
      ],
      "execution_count": null,
      "outputs": [
        {
          "output_type": "error",
          "ename": "TypeError",
          "evalue": "ignored",
          "traceback": [
            "\u001b[0;31m---------------------------------------------------------------------------\u001b[0m",
            "\u001b[0;31mTypeError\u001b[0m                                 Traceback (most recent call last)",
            "\u001b[0;32m<ipython-input-103-8ac56c74e819>\u001b[0m in \u001b[0;36m<module>\u001b[0;34m()\u001b[0m\n\u001b[0;32m----> 1\u001b[0;31m \u001b[0mtexthero\u001b[0m\u001b[0;34m.\u001b[0m\u001b[0mscatterplot\u001b[0m\u001b[0;34m(\u001b[0m\u001b[0mdf\u001b[0m\u001b[0;34m,\u001b[0m \u001b[0;34m)\u001b[0m\u001b[0;34m\u001b[0m\u001b[0;34m\u001b[0m\u001b[0m\n\u001b[0m",
            "\u001b[0;31mTypeError\u001b[0m: scatterplot() missing 1 required positional argument: 'col'"
          ]
        }
      ]
    }
  ]
}